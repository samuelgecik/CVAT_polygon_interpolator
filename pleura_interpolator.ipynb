{
 "cells": [
  {
   "cell_type": "code",
   "execution_count": 80,
   "metadata": {},
   "outputs": [],
   "source": [
    "import json\n",
    "import copy\n",
    "import cv2\n",
    "import numpy as np"
   ]
  },
  {
   "cell_type": "code",
   "execution_count": 95,
   "metadata": {},
   "outputs": [],
   "source": [
    "def chunks(lst, n):\n",
    "    \"\"\"Yield successive n-sized chunks from lst.\"\"\"\n",
    "    for i in range(0, len(lst), n):\n",
    "        yield np.array(lst[i:i + n])"
   ]
  },
  {
   "cell_type": "code",
   "execution_count": 96,
   "metadata": {},
   "outputs": [],
   "source": [
    "with open('test/annots/annotations_3less1st.json') as json_file:\n",
    "    annots = json.load(json_file)\n",
    "\n",
    "shapes = copy.deepcopy(annots[0]['shapes'])\n",
    "# filter shapes\n",
    "filtered_shapes = [shape for shape in shapes if shape['type'] ==\n",
    "                   'polygon' and shape['label'] in ['lungslidingpresent', 'lungslidingabsent']]\n",
    "# group shapes by frame\n",
    "frame = 0\n",
    "last_frame = filtered_shapes[-1]['frame']\n",
    "lines_by_frame = []\n",
    "lines_in_frame = []\n",
    "for shape in filtered_shapes:\n",
    "    if shape['frame'] == frame:\n",
    "        lines_in_frame.append(shape)\n",
    "    else:\n",
    "        frame = frame + 10 if frame < last_frame else last_frame\n",
    "        lines_by_frame.append(lines_in_frame)\n",
    "        lines_in_frame = []\n",
    "        lines_in_frame.append(shape)"
   ]
  },
  {
   "cell_type": "code",
   "execution_count": 97,
   "metadata": {},
   "outputs": [],
   "source": [
    "def intersect(polygon1, polygon2):\n",
    "    \"\"\"Check if two polygons intersect\"\"\"\n",
    "    polygon1 = np.array(list(chunks(polygon1, 2)), dtype=np.int32)\n",
    "    polygon2 = np.array(list(chunks(polygon2, 2)), dtype=np.int32)\n",
    "    basic_img = np.zeros([1000, 1000], dtype=np.uint8)\n",
    "    red_poly = basic_img.copy()\n",
    "    cv2.fillPoly(red_poly, [polygon1], 1)\n",
    "    blue_poly = basic_img.copy()\n",
    "    cv2.fillPoly(blue_poly, [polygon2], 1)\n",
    "    intersection = red_poly * blue_poly\n",
    "    return np.any(intersection)"
   ]
  },
  {
   "cell_type": "code",
   "execution_count": 98,
   "metadata": {},
   "outputs": [],
   "source": [
    "# remove duplicate shapes\n",
    "for frame in lines_by_frame:\n",
    "    if len(frame) == 1:\n",
    "        continue\n",
    "    # find if two polygons intersect by comparing each other\n",
    "    for i in range(len(frame)):\n",
    "        for j in range(i + 1, len(frame)):\n",
    "            if intersect(np.array(frame[i]['points']), np.array(frame[j]['points'])):\n",
    "                # remove one of the polygons\n",
    "                frame.pop(j)"
   ]
  },
  {
   "cell_type": "code",
   "execution_count": 99,
   "metadata": {},
   "outputs": [
    {
     "data": {
      "text/plain": [
       "25"
      ]
     },
     "execution_count": 99,
     "metadata": {},
     "output_type": "execute_result"
    }
   ],
   "source": [
    "num_of_lines = len(filtered_shapes)\n",
    "len(filtered_shapes)"
   ]
  },
  {
   "cell_type": "code",
   "execution_count": 100,
   "metadata": {},
   "outputs": [
    {
     "data": {
      "text/plain": [
       "222"
      ]
     },
     "execution_count": 100,
     "metadata": {},
     "output_type": "execute_result"
    }
   ],
   "source": [
    "filtered_shapes[-1]['frame']"
   ]
  },
  {
   "cell_type": "code",
   "execution_count": 101,
   "metadata": {},
   "outputs": [
    {
     "data": {
      "text/plain": [
       "{'type': 'polygon',\n",
       " 'occluded': False,\n",
       " 'z_order': 0,\n",
       " 'points': [142.08984375,\n",
       "  274.716796875,\n",
       "  200.41312272174946,\n",
       "  322.5419198055897,\n",
       "  298.9793438639117,\n",
       "  321.95868772782524,\n",
       "  363.71810449574696,\n",
       "  342.3718104495747,\n",
       "  388.7970838396104,\n",
       "  333.0400972053467,\n",
       "  356.71931956257504,\n",
       "  313.79343863912436,\n",
       "  234.82381530984094,\n",
       "  303.2952612393674,\n",
       "  195.74726609963545,\n",
       "  298.6294046172534],\n",
       " 'frame': 0,\n",
       " 'group': 0,\n",
       " 'source': 'manual',\n",
       " 'attributes': [],\n",
       " 'label': 'lungslidingpresent'}"
      ]
     },
     "execution_count": 101,
     "metadata": {},
     "output_type": "execute_result"
    }
   ],
   "source": [
    "filtered_shapes[0]"
   ]
  },
  {
   "cell_type": "code",
   "execution_count": 102,
   "metadata": {},
   "outputs": [
    {
     "name": "stdout",
     "output_type": "stream",
     "text": [
      "23\n",
      "16\n",
      "22\n"
     ]
    }
   ],
   "source": [
    "print(len(lines_by_frame))\n",
    "print(len(lines_by_frame[0][0]['points']))\n",
    "print(len(lines_by_frame[1][0]['points']))"
   ]
  },
  {
   "cell_type": "code",
   "execution_count": 90,
   "metadata": {},
   "outputs": [
    {
     "ename": "IndexError",
     "evalue": "list index out of range",
     "output_type": "error",
     "traceback": [
      "\u001b[0;31m---------------------------------------------------------------------------\u001b[0m",
      "\u001b[0;31mIndexError\u001b[0m                                Traceback (most recent call last)",
      "Cell \u001b[0;32mIn [90], line 1\u001b[0m\n\u001b[0;32m----> 1\u001b[0m lines_by_frame[\u001b[39m-\u001b[39;49m\u001b[39m1\u001b[39;49m][\u001b[39m1\u001b[39;49m]\n",
      "\u001b[0;31mIndexError\u001b[0m: list index out of range"
     ]
    }
   ],
   "source": [
    "lines_by_frame[-1][1]"
   ]
  },
  {
   "cell_type": "code",
   "execution_count": 103,
   "metadata": {},
   "outputs": [],
   "source": [
    "skelet = {\n",
    "    \"type\": \"polygon\",\n",
    "    \"occluded\": False,\n",
    "    \"z_order\": 0,\n",
    "    \"points\": [],\n",
    "    \"frame\": 0,\n",
    "    \"group\": 0,\n",
    "    \"source\": \"manual\",\n",
    "    \"attributes\": [],\n",
    "    \"label\": \"lungslidingpresent\"\n",
    "}"
   ]
  },
  {
   "cell_type": "code",
   "execution_count": 92,
   "metadata": {},
   "outputs": [
    {
     "name": "stdout",
     "output_type": "stream",
     "text": [
      "{0: 1, 10: 2, 20: 3, 30: 4, 40: 5, 50: 6, 60: 7, 70: 8, 80: 9, 90: 10, 100: 11, 110: 12, 120: 13, 130: 14, 140: 15, 150: 16, 160: 17, 170: 18, 180: 19, 190: 20, 200: 21, 210: 22, 220: 24, 222: 25}\n"
     ]
    }
   ],
   "source": [
    "indicies = dict((d['frame'], index) for (index, d) in enumerate(shapes))\n",
    "print(indicies)"
   ]
  },
  {
   "cell_type": "code",
   "execution_count": 104,
   "metadata": {},
   "outputs": [],
   "source": [
    "def add_substract_point(shapes: list[list[float]]):\n",
    "    upper_left_idx = []\n",
    "    add = True if len(shapes[0]) < len(shapes[1]) else False\n",
    "    coords = [list(chunks(shapes[0], 2)),\n",
    "              list(chunks(shapes[1], 2))]\n",
    "    for i in range(len(shapes)):\n",
    "        magnitudes = [np.sqrt(x.dot(x)) for x in coords[i]]\n",
    "        # get most upper left\n",
    "        upper_left = min(magnitudes)\n",
    "        # append index of the upper left coord to list of max 2 indicies\n",
    "        upper_left_idx.append(magnitudes.index(upper_left))\n",
    "\n",
    "    # value by which all points will be shifted\n",
    "    shift = coords[1][upper_left_idx[1]] - coords[0][upper_left_idx[0]]\n",
    "    # start polygons from the most upper left point\n",
    "    if upper_left_idx[0] != 0:\n",
    "        coords[0] = np.roll(coords[0], -upper_left_idx[0], axis=0)\n",
    "    if upper_left_idx[1] != 0:\n",
    "        coords[1] = np.roll(coords[1], -upper_left_idx[1], axis=0)\n",
    "    # number of points to be added or substracted\n",
    "    diff = abs(len(coords[0]) - len(coords[1]))\n",
    "    # count distances between all points\n",
    "    distances_in_first = [int(np.linalg.norm(\n",
    "        coords[0][i] - coords[0][i+1])) for i in range(len(coords[0])-1)]\n",
    "    distances_in_second = [int(np.linalg.norm(\n",
    "        coords[1][i] - coords[1][i+1])) for i in range(len(coords[1])-1)]\n",
    "\n",
    "    for _ in range(diff):\n",
    "        for i in range(len(distances_in_first)):\n",
    "            # compare differences between distances with trershold\n",
    "            if abs(distances_in_first[i] - distances_in_second[i]) > 10:\n",
    "                # add or substract point\n",
    "                if add:\n",
    "                    coords[0] = np.insert(\n",
    "                        coords[0], i+1, (coords[1][i+1] - shift), axis=0)                    \n",
    "                else:\n",
    "                    coords[0] = np.delete(coords[0], i+1, axis=0)\n",
    "                distances_in_first = [int(np.linalg.norm(\n",
    "                    coords[0][i] - coords[0][i+1])) for i in range(len(coords[0])-1)]\n",
    "                break\n",
    "\n",
    "    return coords[0].flatten().tolist()"
   ]
  },
  {
   "cell_type": "code",
   "execution_count": 94,
   "metadata": {},
   "outputs": [
    {
     "ename": "AttributeError",
     "evalue": "'tuple' object has no attribute 'dot'",
     "output_type": "error",
     "traceback": [
      "\u001b[0;31m---------------------------------------------------------------------------\u001b[0m",
      "\u001b[0;31mAttributeError\u001b[0m                            Traceback (most recent call last)",
      "Cell \u001b[0;32mIn [94], line 1\u001b[0m\n\u001b[0;32m----> 1\u001b[0m add_substract_point([lines_by_frame[\u001b[39m0\u001b[39;49m][\u001b[39m0\u001b[39;49m][\u001b[39m'\u001b[39;49m\u001b[39mpoints\u001b[39;49m\u001b[39m'\u001b[39;49m], lines_by_frame[\u001b[39m1\u001b[39;49m][\u001b[39m0\u001b[39;49m][\u001b[39m'\u001b[39;49m\u001b[39mpoints\u001b[39;49m\u001b[39m'\u001b[39;49m]])\n",
      "Cell \u001b[0;32mIn [93], line 7\u001b[0m, in \u001b[0;36madd_substract_point\u001b[0;34m(shapes)\u001b[0m\n\u001b[1;32m      4\u001b[0m coords \u001b[39m=\u001b[39m [\u001b[39mlist\u001b[39m(chunks(shapes[\u001b[39m0\u001b[39m], \u001b[39m2\u001b[39m)),\n\u001b[1;32m      5\u001b[0m           \u001b[39mlist\u001b[39m(chunks(shapes[\u001b[39m1\u001b[39m], \u001b[39m2\u001b[39m))]\n\u001b[1;32m      6\u001b[0m \u001b[39mfor\u001b[39;00m i \u001b[39min\u001b[39;00m \u001b[39mrange\u001b[39m(\u001b[39mlen\u001b[39m(shapes)):\n\u001b[0;32m----> 7\u001b[0m     magnitudes \u001b[39m=\u001b[39m [np\u001b[39m.\u001b[39msqrt(x\u001b[39m.\u001b[39mdot(x)) \u001b[39mfor\u001b[39;00m x \u001b[39min\u001b[39;00m coords[i]]\n\u001b[1;32m      8\u001b[0m     \u001b[39m# get most upper left\u001b[39;00m\n\u001b[1;32m      9\u001b[0m     upper_left \u001b[39m=\u001b[39m \u001b[39mmin\u001b[39m(magnitudes)\n",
      "Cell \u001b[0;32mIn [93], line 7\u001b[0m, in \u001b[0;36m<listcomp>\u001b[0;34m(.0)\u001b[0m\n\u001b[1;32m      4\u001b[0m coords \u001b[39m=\u001b[39m [\u001b[39mlist\u001b[39m(chunks(shapes[\u001b[39m0\u001b[39m], \u001b[39m2\u001b[39m)),\n\u001b[1;32m      5\u001b[0m           \u001b[39mlist\u001b[39m(chunks(shapes[\u001b[39m1\u001b[39m], \u001b[39m2\u001b[39m))]\n\u001b[1;32m      6\u001b[0m \u001b[39mfor\u001b[39;00m i \u001b[39min\u001b[39;00m \u001b[39mrange\u001b[39m(\u001b[39mlen\u001b[39m(shapes)):\n\u001b[0;32m----> 7\u001b[0m     magnitudes \u001b[39m=\u001b[39m [np\u001b[39m.\u001b[39msqrt(x\u001b[39m.\u001b[39;49mdot(x)) \u001b[39mfor\u001b[39;00m x \u001b[39min\u001b[39;00m coords[i]]\n\u001b[1;32m      8\u001b[0m     \u001b[39m# get most upper left\u001b[39;00m\n\u001b[1;32m      9\u001b[0m     upper_left \u001b[39m=\u001b[39m \u001b[39mmin\u001b[39m(magnitudes)\n",
      "\u001b[0;31mAttributeError\u001b[0m: 'tuple' object has no attribute 'dot'"
     ]
    }
   ],
   "source": [
    "add_substract_point([lines_by_frame[0][0]['points'], lines_by_frame[1][0]['points']])"
   ]
  },
  {
   "cell_type": "code",
   "execution_count": 105,
   "metadata": {},
   "outputs": [],
   "source": [
    "def interpolator(frames: list[dict]):\n",
    "    \"\"\"\n",
    "    Interpolates between two frames\n",
    "    If polygons have different number of vertices, it adds or substracts vertices\n",
    "\n",
    "        Parameters:\n",
    "            frames (list[dict]): shapes grouped by frames which they are present in\n",
    "    \"\"\"\n",
    "    offset = 1\n",
    "    # iterates over grouped by frame shapes\n",
    "    for i, group in enumerate(frames[:-1]):\n",
    "        cut = max(0, len(group) - len(frames[i+1]))\n",
    "        frames_to_interpolate = frames[i+1][0]['frame'] - frames[i][0]['frame']\n",
    "        difference, step = [], []\n",
    "        # iterates over shapes in a group\n",
    "        for j, shape in enumerate(group):\n",
    "            # TODO: One less in 1st\n",
    "            # add points to the shape if the next shape has less points\n",
    "            if len(shape['points']) < len(frames[i+1][j]['points']):\n",
    "                shape['points'] = add_substract_point(\n",
    "                    [shape['points'], frames[i+1][j]['points']])\n",
    "            # get the difference between the points of the same shape in the next group\n",
    "            difference = (np.subtract(\n",
    "                frames[i+1][j]['points'], shape['points']))\n",
    "            # get the step by which the points will be interpolated\n",
    "            step.append(difference / frames_to_interpolate)\n",
    "        # iterates over each shape in a group\n",
    "        for k in range(1, frames_to_interpolate):\n",
    "            for j, shape in enumerate(group[:-cut] if cut > 0 else group):\n",
    "                points = shape['points'].copy() + (step[j] * k)\n",
    "                skelet['points'] = list(points)\n",
    "                skelet['frame'] = shape['frame'] + k\n",
    "                annots[0]['shapes'].insert(indicies.get(\n",
    "                    shape['frame']) + offset, copy.deepcopy(skelet))\n",
    "                offset += 1"
   ]
  },
  {
   "cell_type": "code",
   "execution_count": 106,
   "metadata": {},
   "outputs": [],
   "source": [
    "interpolator(lines_by_frame)"
   ]
  },
  {
   "cell_type": "code",
   "execution_count": 21,
   "metadata": {},
   "outputs": [],
   "source": [
    "# with open('annotations.json') as json_file:\n",
    "#     annots = json.load(json_file)"
   ]
  },
  {
   "cell_type": "code",
   "execution_count": 170,
   "metadata": {},
   "outputs": [],
   "source": [
    "with open('test/annots/annotations_3less1st->fixed.json', 'w') as aline_file:\n",
    "    json.dump(annots, aline_file)"
   ]
  }
 ],
 "metadata": {
  "kernelspec": {
   "display_name": "Python 3.10.8 64-bit",
   "language": "python",
   "name": "python3"
  },
  "language_info": {
   "codemirror_mode": {
    "name": "ipython",
    "version": 3
   },
   "file_extension": ".py",
   "mimetype": "text/x-python",
   "name": "python",
   "nbconvert_exporter": "python",
   "pygments_lexer": "ipython3",
   "version": "3.10.8"
  },
  "orig_nbformat": 4,
  "vscode": {
   "interpreter": {
    "hash": "aee8b7b246df8f9039afb4144a1f6fd8d2ca17a180786b69acc140d282b71a49"
   }
  }
 },
 "nbformat": 4,
 "nbformat_minor": 2
}
