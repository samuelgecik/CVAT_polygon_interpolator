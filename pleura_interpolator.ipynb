{
 "cells": [
  {
   "cell_type": "code",
   "execution_count": 1,
   "metadata": {},
   "outputs": [],
   "source": [
    "import json\n",
    "import copy\n",
    "import cv2\n",
    "import numpy as np\n"
   ]
  },
  {
   "cell_type": "code",
   "execution_count": 2,
   "metadata": {},
   "outputs": [],
   "source": [
    "def chunks(lst, n):\n",
    "    \"\"\"Yield successive n-sized chunks from lst.\"\"\"\n",
    "    chunks_lst = []\n",
    "    for i in range(0, len(lst), n):\n",
    "         chunks_lst.append(lst[i : i + n])\n",
    "    return chunks_lst\n"
   ]
  },
  {
   "cell_type": "code",
   "execution_count": 3,
   "metadata": {},
   "outputs": [],
   "source": [
    "def find_extrema_rectangle(points):\n",
    "    \"\"\"Find the extrema of a polygon and return rectangle coordinates.\"\"\"\n",
    "    x = [point[0] for point in points]\n",
    "    y = [point[1] for point in points]\n",
    "    x_min, x_max = min(x), max(x)\n",
    "    y_min, y_max = min(y), max(y)\n",
    "    return [(x_min, y_min), (x_max, y_min), (x_max, y_max), (x_min, y_max)]\n",
    "    "
   ]
  },
  {
   "cell_type": "code",
   "execution_count": 4,
   "metadata": {},
   "outputs": [],
   "source": [
    "# find_extrema_rectangle(chunks(shapes_by_frame[0][0][\"points\"], 2))"
   ]
  },
  {
   "cell_type": "code",
   "execution_count": 5,
   "metadata": {},
   "outputs": [],
   "source": [
    "def intersect(polygon1, polygon2):\n",
    "    \"\"\"Check if two polygons intersect\"\"\"\n",
    "    polygon1 = np.array(polygon1, dtype=np.int32)\n",
    "    polygon2 = np.array(polygon2, dtype=np.int32)\n",
    "    basic_img = np.zeros([1000, 1000], dtype=np.uint8)\n",
    "    red_poly = basic_img.copy()\n",
    "    cv2.fillPoly(red_poly, [polygon1], 1)\n",
    "    blue_poly = basic_img.copy()\n",
    "    cv2.fillPoly(blue_poly, [polygon2], 1)\n",
    "    intersection = red_poly * blue_poly\n",
    "    return np.any(intersection)\n"
   ]
  },
  {
   "cell_type": "code",
   "execution_count": 6,
   "metadata": {},
   "outputs": [],
   "source": [
    "def assign_id(shapes_by_frame: list[list]):\n",
    "    \"\"\"\n",
    "    Assigns id to each shape in the list of shapes grouped by frame\n",
    "    ID is assigned according to the position of the shape in the frame\n",
    "    \"\"\"\n",
    "    id_count = 0\n",
    "    # assign id to shapes in the first frame\n",
    "    for i, shape in enumerate(shapes_by_frame[0]):\n",
    "        shape[\"id\"] = i\n",
    "        id_count += 1\n",
    "\n",
    "    # assign id to shapes in the rest of the frames\n",
    "    for i, frame in enumerate(shapes_by_frame[1:], start=1):\n",
    "        for shape in frame:\n",
    "            # check if the shape with the same id is present in the previous frame\n",
    "            # if same label and square intersect: then same id else: new id\n",
    "            for prev_shape in shapes_by_frame[i-1]:\n",
    "                if shape[\"label\"] == prev_shape[\"label\"] and intersect(\n",
    "                    find_extrema_rectangle(chunks(shape[\"points\"], 2)),\n",
    "                    find_extrema_rectangle(chunks(prev_shape[\"points\"], 2))\n",
    "                ):\n",
    "                    shape[\"id\"] = prev_shape[\"id\"]\n",
    "                    break\n",
    "            else:\n",
    "                shape[\"id\"] = id_count\n",
    "                id_count += 1\n"
   ]
  },
  {
   "cell_type": "code",
   "execution_count": 24,
   "metadata": {},
   "outputs": [],
   "source": [
    "with open(\"test/orig/task_sonoscape_2021-09_2021-10-18_002_20211008_110924_87.avi_backup_2022_04_01_08_48_32 (1)/annotations.json\") as json_file:\n",
    "    annots = json.load(json_file)\n",
    "\n",
    "shapes = copy.deepcopy(annots[0][\"shapes\"])\n",
    "# filter shapes\n",
    "filtered_shapes = [\n",
    "    shape\n",
    "    for shape in shapes\n",
    "    if shape[\"type\"] == \"polygon\"\n",
    "    and shape[\"label\"] in [\"aline\"]\n",
    "]\n",
    "# group shapes by frame\n",
    "frame = 0\n",
    "last_frame = filtered_shapes[-1][\"frame\"]\n",
    "shapes_by_frame = []\n",
    "shapes_in_single_frame = []\n",
    "for i, shape in enumerate(filtered_shapes):\n",
    "    if shape[\"frame\"] == frame:\n",
    "        shapes_in_single_frame.append(shape)\n",
    "        # if multiple shapes in the last frame, add to shapes_by_frame\n",
    "        if i == len(filtered_shapes) - 1:\n",
    "            shapes_by_frame.append(shapes_in_single_frame)\n",
    "\n",
    "    else:\n",
    "        frame = frame + 10 if (frame + 10) < last_frame else last_frame\n",
    "        shapes_by_frame.append(shapes_in_single_frame)\n",
    "        shapes_in_single_frame = []\n",
    "        shapes_in_single_frame.append(shape)\n"
   ]
  },
  {
   "cell_type": "code",
   "execution_count": 23,
   "metadata": {},
   "outputs": [
    {
     "name": "stdout",
     "output_type": "stream",
     "text": [
      "50\n"
     ]
    }
   ],
   "source": [
    "print(len(shapes_by_frame))"
   ]
  },
  {
   "cell_type": "code",
   "execution_count": 15,
   "metadata": {},
   "outputs": [],
   "source": [
    "assign_id(shapes_by_frame)"
   ]
  },
  {
   "cell_type": "code",
   "execution_count": 25,
   "metadata": {},
   "outputs": [],
   "source": [
    "# remove duplicate shapes in the same frame\n",
    "for frame in shapes_by_frame:\n",
    "    if len(frame) == 1:\n",
    "        continue\n",
    "    # find if two polygons intersect by comparing each other\n",
    "    for i in range(len(frame)):\n",
    "        for j in range(i + 1, len(frame)):\n",
    "            try:\n",
    "                if intersect(chunks(frame[i][\"points\"], 2), chunks(frame[j][\"points\"], 2)):\n",
    "                    # remove one of the polygons\n",
    "                    frame.pop(j)\n",
    "            except:\n",
    "                raise Exception(\"Error in frame: \")\n"
   ]
  },
  {
   "cell_type": "code",
   "execution_count": 17,
   "metadata": {},
   "outputs": [
    {
     "data": {
      "text/plain": [
       "141"
      ]
     },
     "execution_count": 17,
     "metadata": {},
     "output_type": "execute_result"
    }
   ],
   "source": [
    "num_of_lines = len(filtered_shapes)\n",
    "len(filtered_shapes)\n"
   ]
  },
  {
   "cell_type": "code",
   "execution_count": 23,
   "metadata": {},
   "outputs": [
    {
     "data": {
      "text/plain": [
       "285"
      ]
     },
     "execution_count": 23,
     "metadata": {},
     "output_type": "execute_result"
    }
   ],
   "source": [
    "filtered_shapes[-1][\"frame\"]\n"
   ]
  },
  {
   "cell_type": "code",
   "execution_count": 24,
   "metadata": {},
   "outputs": [
    {
     "data": {
      "text/plain": [
       "{'type': 'polygon',\n",
       " 'occluded': False,\n",
       " 'z_order': 0,\n",
       " 'points': [88.0693359375,\n",
       "  357.8681640625,\n",
       "  183.30157275796046,\n",
       "  334.05996236801184,\n",
       "  285.4455657184135,\n",
       "  339.43596199750937,\n",
       "  277.76556624770274,\n",
       "  358.63596067428625,\n",
       "  184.8375726521026,\n",
       "  357.0999607801441,\n",
       "  81.9255797445785,\n",
       "  376.299959456921],\n",
       " 'frame': 0,\n",
       " 'group': 0,\n",
       " 'source': 'manual',\n",
       " 'attributes': [],\n",
       " 'label': 'lungslidingpresent',\n",
       " 'id': 0}"
      ]
     },
     "execution_count": 24,
     "metadata": {},
     "output_type": "execute_result"
    }
   ],
   "source": [
    "filtered_shapes[0]\n"
   ]
  },
  {
   "cell_type": "code",
   "execution_count": 25,
   "metadata": {},
   "outputs": [
    {
     "name": "stdout",
     "output_type": "stream",
     "text": [
      "29\n",
      "12\n",
      "12\n"
     ]
    }
   ],
   "source": [
    "print(len(shapes_by_frame))\n",
    "print(len(shapes_by_frame[0][0][\"points\"]))\n",
    "print(len(shapes_by_frame[1][0][\"points\"]))"
   ]
  },
  {
   "cell_type": "code",
   "execution_count": 26,
   "metadata": {},
   "outputs": [
    {
     "data": {
      "text/plain": [
       "[{'type': 'polygon',\n",
       "  'occluded': False,\n",
       "  'z_order': 0,\n",
       "  'points': [84.607421875,\n",
       "   356.5830078125,\n",
       "   179.83965869546046,\n",
       "   332.77480611801184,\n",
       "   281.9836516559135,\n",
       "   338.15080574750937,\n",
       "   274.30365218520274,\n",
       "   357.35080442428625,\n",
       "   181.3756585896026,\n",
       "   355.8148045301441,\n",
       "   78.4636656820785,\n",
       "   375.014803206921],\n",
       "  'frame': 280,\n",
       "  'group': 0,\n",
       "  'source': 'manual',\n",
       "  'attributes': [],\n",
       "  'label': 'lungslidingpresent',\n",
       "  'id': 0},\n",
       " {'type': 'polygon',\n",
       "  'occluded': False,\n",
       "  'z_order': 0,\n",
       "  'points': [405.32421875,\n",
       "   331.46826171875,\n",
       "   550.4762587130081,\n",
       "   319.94823274612463,\n",
       "   548.1722588717948,\n",
       "   339.9162313699726,\n",
       "   418.3802678167831,\n",
       "   349.1322307348255],\n",
       "  'frame': 280,\n",
       "  'group': 0,\n",
       "  'source': 'manual',\n",
       "  'attributes': [],\n",
       "  'label': 'lungslidingpresent',\n",
       "  'id': 1}]"
      ]
     },
     "execution_count": 26,
     "metadata": {},
     "output_type": "execute_result"
    }
   ],
   "source": [
    "len(shapes_by_frame[-1])\n",
    "shapes_by_frame[-1]\n"
   ]
  },
  {
   "cell_type": "code",
   "execution_count": 27,
   "metadata": {},
   "outputs": [],
   "source": [
    "def get_skelet(type: str):\n",
    "    \"\"\"Get the skeleton of the shape\"\"\"\n",
    "    return {\n",
    "        \"type\": \"polygon\",\n",
    "        \"occluded\": False,\n",
    "        \"z_order\": 0,\n",
    "        \"points\": [],\n",
    "        \"frame\": 0,\n",
    "        \"group\": 0,\n",
    "        \"source\": \"manual\",\n",
    "        \"attributes\": [],\n",
    "        \"label\": type,\n",
    "    }\n",
    "\n",
    "\n",
    "skelet = get_skelet(\"lungslidingpresent\")\n"
   ]
  },
  {
   "cell_type": "code",
   "execution_count": 30,
   "metadata": {},
   "outputs": [
    {
     "name": "stdout",
     "output_type": "stream",
     "text": [
      "{0: 2, 10: 4, 20: 6, 30: 8, 40: 10, 50: 12, 60: 14, 70: 16, 80: 18, 90: 20, 100: 22, 110: 24, 120: 26, 130: 28, 140: 30, 150: 32, 160: 34, 170: 36, 180: 38, 190: 40, 200: 42, 210: 44, 220: 46, 230: 48, 240: 50, 250: 52, 260: 54, 270: 56, 280: 58, 285: 60}\n"
     ]
    }
   ],
   "source": [
    "indicies = dict((d[\"frame\"], index) for (index, d) in enumerate(shapes))\n",
    "print(indicies)\n"
   ]
  },
  {
   "cell_type": "code",
   "execution_count": 31,
   "metadata": {},
   "outputs": [],
   "source": [
    "def add_substract_point(shapes: list[list[float]]):\n",
    "    upper_left_idx = []\n",
    "    add = True if len(shapes[0]) < len(shapes[1]) else False\n",
    "    coords = np.array([list(chunks(shapes[0], 2)), list(chunks(shapes[1], 2))])\n",
    "    for i in range(len(shapes)):\n",
    "        magnitudes = [np.sqrt(x.dot(x)) for x in coords[i]]\n",
    "        # get most upper left\n",
    "        upper_left = min(magnitudes)\n",
    "        # append index of the upper left coord to list of max 2 indicies\n",
    "        upper_left_idx.append(magnitudes.index(upper_left))\n",
    "\n",
    "    # value by which all points will be shifted\n",
    "    shift = coords[1][upper_left_idx[1]] - coords[0][upper_left_idx[0]]\n",
    "    # start polygons from the most upper left point\n",
    "    if upper_left_idx[0] != 0:\n",
    "        coords[0] = np.roll(coords[0], -upper_left_idx[0], axis=0)\n",
    "    if upper_left_idx[1] != 0:\n",
    "        coords[1] = np.roll(coords[1], -upper_left_idx[1], axis=0)\n",
    "    # number of points to be added or substracted\n",
    "    diff = abs(len(coords[0]) - len(coords[1]))\n",
    "    # count distances between all points\n",
    "    distances_in_first = [\n",
    "        int(np.linalg.norm(coords[0][i] - coords[0][i + 1]))\n",
    "        for i in range(len(coords[0]) - 1)\n",
    "    ]\n",
    "    distances_in_second = [\n",
    "        int(np.linalg.norm(coords[1][i] - coords[1][i + 1]))\n",
    "        for i in range(len(coords[1]) - 1)\n",
    "    ]\n",
    "\n",
    "    for _ in range(diff):\n",
    "        for i in range(len(distances_in_first)):\n",
    "            # compare differences between distances with treshold\n",
    "            if abs(distances_in_first[i] - distances_in_second[i]) > 10:\n",
    "                # add or substract point\n",
    "                if add:\n",
    "                    coords[0] = np.insert(\n",
    "                        coords[0], i + 1, (coords[1][i + 1] - shift), axis=0\n",
    "                    )\n",
    "                else:\n",
    "                    coords[0] = np.delete(coords[0], i + 1, axis=0)\n",
    "                distances_in_first = [\n",
    "                    int(np.linalg.norm(coords[0][i] - coords[0][i + 1]))\n",
    "                    for i in range(len(coords[0]) - 1)\n",
    "                ]\n",
    "                break\n",
    "\n",
    "    return coords[0].flatten().tolist()\n"
   ]
  },
  {
   "cell_type": "code",
   "execution_count": 46,
   "metadata": {},
   "outputs": [
    {
     "ename": "ValueError",
     "evalue": "The truth value of an array with more than one element is ambiguous. Use a.any() or a.all()",
     "output_type": "error",
     "traceback": [
      "\u001b[0;31m---------------------------------------------------------------------------\u001b[0m",
      "\u001b[0;31mValueError\u001b[0m                                Traceback (most recent call last)",
      "Cell \u001b[0;32mIn [46], line 1\u001b[0m\n\u001b[0;32m----> 1\u001b[0m add_substract_point([shapes_by_frame[\u001b[39m0\u001b[39m][\u001b[39m0\u001b[39m][\u001b[39m\"\u001b[39m\u001b[39mpoints\u001b[39m\u001b[39m\"\u001b[39m], shapes_by_frame[\u001b[39m1\u001b[39m][\u001b[39m0\u001b[39m][\u001b[39m\"\u001b[39m\u001b[39mpoints\u001b[39m\u001b[39m\"\u001b[39m]])\n",
      "Cell \u001b[0;32mIn [45], line 12\u001b[0m, in \u001b[0;36madd_substract_point\u001b[0;34m(shapes)\u001b[0m\n\u001b[1;32m     10\u001b[0m     upper_left \u001b[39m=\u001b[39m find_extrema_rectangle(coords[i])[\u001b[39m0\u001b[39m]\n\u001b[1;32m     11\u001b[0m     \u001b[39m# append index of the upper left coord to list of max 2 indicies\u001b[39;00m\n\u001b[0;32m---> 12\u001b[0m     upper_left_idx\u001b[39m.\u001b[39mappend(magnitudes\u001b[39m.\u001b[39;49mindex(upper_left))\n\u001b[1;32m     14\u001b[0m \u001b[39m# value by which all points will be shifted\u001b[39;00m\n\u001b[1;32m     15\u001b[0m shift \u001b[39m=\u001b[39m coords[\u001b[39m1\u001b[39m][upper_left_idx[\u001b[39m1\u001b[39m]] \u001b[39m-\u001b[39m coords[\u001b[39m0\u001b[39m][upper_left_idx[\u001b[39m0\u001b[39m]]\n",
      "\u001b[0;31mValueError\u001b[0m: The truth value of an array with more than one element is ambiguous. Use a.any() or a.all()"
     ]
    }
   ],
   "source": [
    "add_substract_point([shapes_by_frame[0][0][\"points\"], shapes_by_frame[1][0][\"points\"]])\n"
   ]
  },
  {
   "cell_type": "code",
   "execution_count": 36,
   "metadata": {},
   "outputs": [],
   "source": [
    "def interpolator(frames: list[dict]):\n",
    "    \"\"\"\n",
    "    Interpolates between two frames\n",
    "    If polygons have different number of vertices, it adds or substracts vertices\n",
    "\n",
    "        Parameters:\n",
    "            frames (list[dict]): shapes grouped by frames which they are present in\n",
    "    \"\"\"\n",
    "    offset = 1\n",
    "    # iterates over grouped by frame shapes\n",
    "    for i, group in enumerate(frames[:-1]):\n",
    "        # check if some shapes are missing in the next frame\n",
    "        cut = max(0, len(group) - len(frames[i + 1]))\n",
    "        # check which shapes are missing in the next frame and remove them from the group\n",
    "        # shapes are checked by treir id\n",
    "        if cut > 0:\n",
    "            for _ in range(cut):\n",
    "                for shape in group:\n",
    "                    if shape[\"id\"] not in [x[\"id\"] for x in frames[i + 1]]:\n",
    "                        group.remove(shape)\n",
    "                        break\n",
    "        frames_to_interpolate = frames[i + 1][0][\"frame\"] - frames[i][0][\"frame\"]\n",
    "        difference, step = [], []\n",
    "        # iterates over shapes in a group\n",
    "        for j, shape in enumerate(group):\n",
    "            # add points to the shape if the next shape has less points\n",
    "            if len(shape[\"points\"]) < len(frames[i + 1][j][\"points\"]):\n",
    "                shape[\"points\"] = add_substract_point(\n",
    "                    [shape[\"points\"], frames[i + 1][j][\"points\"]]\n",
    "                )\n",
    "            # get the difference between the points of the same shape in the next group\n",
    "            difference = np.subtract(frames[i + 1][j][\"points\"], shape[\"points\"])\n",
    "            # get the step by which the points will be interpolated\n",
    "            step.append(difference / frames_to_interpolate)\n",
    "        # iterates over each shape in a group\n",
    "        for k in range(1, frames_to_interpolate):\n",
    "            for j, shape in enumerate(group):\n",
    "                points = shape[\"points\"].copy() + (step[j] * k)\n",
    "                skelet[\"points\"] = list(points)\n",
    "                skelet[\"frame\"] = shape[\"frame\"] + k\n",
    "                annots[0][\"shapes\"].insert(\n",
    "                    indicies.get(shape[\"frame\"]) + offset, copy.deepcopy(skelet)\n",
    "                )\n",
    "                offset += 1"
   ]
  },
  {
   "cell_type": "code",
   "execution_count": 46,
   "metadata": {},
   "outputs": [],
   "source": [
    "interpolator(shapes_by_frame)\n"
   ]
  },
  {
   "cell_type": "code",
   "execution_count": 21,
   "metadata": {},
   "outputs": [],
   "source": [
    "# with open('annotations.json') as json_file:\n",
    "#     annots = json.load(json_file)\n"
   ]
  },
  {
   "cell_type": "code",
   "execution_count": 21,
   "metadata": {},
   "outputs": [],
   "source": [
    "with open(\"test/annots/annotations_2pleura->fixed.json\", \"w\") as aline_file:\n",
    "    json.dump(annots, aline_file)\n"
   ]
  }
 ],
 "metadata": {
  "kernelspec": {
   "display_name": "Python 3.10.8 64-bit",
   "language": "python",
   "name": "python3"
  },
  "language_info": {
   "codemirror_mode": {
    "name": "ipython",
    "version": 3
   },
   "file_extension": ".py",
   "mimetype": "text/x-python",
   "name": "python",
   "nbconvert_exporter": "python",
   "pygments_lexer": "ipython3",
   "version": "3.10.8"
  },
  "orig_nbformat": 4,
  "vscode": {
   "interpreter": {
    "hash": "aee8b7b246df8f9039afb4144a1f6fd8d2ca17a180786b69acc140d282b71a49"
   }
  }
 },
 "nbformat": 4,
 "nbformat_minor": 2
}
