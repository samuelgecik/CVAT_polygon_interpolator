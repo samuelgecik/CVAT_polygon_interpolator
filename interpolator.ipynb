{
 "cells": [
  {
   "cell_type": "code",
   "execution_count": 16,
   "metadata": {},
   "outputs": [],
   "source": [
    "import os\n",
    "import json\n",
    "import shutil\n",
    "import copy\n",
    "from zipfile import ZipFile\n",
    "from modules.utils import *\n",
    "from modules.geometry import *"
   ]
  },
  {
   "cell_type": "code",
   "execution_count": 17,
   "metadata": {},
   "outputs": [],
   "source": [
    "path = \"/Users/samo/Documents/School/Bioinf/CVAT_polygon_interpolator/data/task_sonoscape_2021-09_2021-10-18_003_20211001_071332_27.avi_backup_2022_04_08_11_05_32 (1).zip\""
   ]
  },
  {
   "cell_type": "code",
   "execution_count": 18,
   "metadata": {},
   "outputs": [],
   "source": [
    "# comment out unwanted\n",
    "shapes_lst = [\n",
    "    \"lungslidingpresent\",\n",
    "    \"lungslidingabsent\",\n",
    "    \"aline\",\n",
    "    \"bline\"\n",
    "]"
   ]
  },
  {
   "cell_type": "code",
   "execution_count": 19,
   "metadata": {},
   "outputs": [],
   "source": [
    "with ZipFile(path) as myzip:\n",
    "    with myzip.open(\"annotations.json\") as json_file:\n",
    "        annots = json.load(json_file)\n"
   ]
  },
  {
   "cell_type": "code",
   "execution_count": 20,
   "metadata": {},
   "outputs": [],
   "source": [
    "shapes = copy.deepcopy(annots[0][\"shapes\"])\n",
    "filtered_shapes = [\n",
    "    shape\n",
    "    for shape in shapes\n",
    "    if shape[\"type\"] == \"polygon\"\n",
    "    and shape[\"label\"] in shapes_lst\n",
    "]\n",
    "indicies = get_indicies(shapes)"
   ]
  },
  {
   "cell_type": "code",
   "execution_count": 21,
   "metadata": {},
   "outputs": [],
   "source": [
    "shapes_by_frame = group_shapes_by_frame(filtered_shapes)\n",
    "remove_duplicates(shapes_by_frame)\n",
    "assign_id(shapes_by_frame)\n",
    "interpolator(shapes_by_frame, indicies, annots)"
   ]
  },
  {
   "cell_type": "code",
   "execution_count": 22,
   "metadata": {},
   "outputs": [],
   "source": [
    "# create output folder if it doesn't exist\n",
    "if not os.path.exists(\"output\"):\n",
    "    os.makedirs(\"output\")\n",
    "\n",
    "# copy the original file to output folder\n",
    "shutil.copy(path, \"output/\" + path.split(\"/\")[-1])\n",
    "\n",
    "remove_from_zip(\"output/\" + path.split(\"/\")[-1], \"annotations.json\")\n",
    "with zipfile.ZipFile(\"output/\" + path.split(\"/\")[-1], 'a') as newzip:\n",
    "    newzip.writestr(\"annotations.json\", json.dumps(annots))\n"
   ]
  }
 ],
 "metadata": {
  "kernelspec": {
   "display_name": "Python 3.10.8 64-bit",
   "language": "python",
   "name": "python3"
  },
  "language_info": {
   "codemirror_mode": {
    "name": "ipython",
    "version": 3
   },
   "file_extension": ".py",
   "mimetype": "text/x-python",
   "name": "python",
   "nbconvert_exporter": "python",
   "pygments_lexer": "ipython3",
   "version": "3.10.8"
  },
  "orig_nbformat": 4,
  "vscode": {
   "interpreter": {
    "hash": "aee8b7b246df8f9039afb4144a1f6fd8d2ca17a180786b69acc140d282b71a49"
   }
  }
 },
 "nbformat": 4,
 "nbformat_minor": 2
}
