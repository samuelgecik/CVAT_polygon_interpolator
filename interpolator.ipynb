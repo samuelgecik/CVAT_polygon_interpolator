{
 "cells": [
  {
   "cell_type": "code",
   "execution_count": 1,
   "metadata": {},
   "outputs": [],
   "source": [
    "import os\n",
    "import json\n",
    "import shutil\n",
    "import copy\n",
    "from zipfile import ZipFile\n",
    "from modules.utils import *\n",
    "from modules.geometry import *"
   ]
  },
  {
   "cell_type": "code",
   "execution_count": 2,
   "metadata": {},
   "outputs": [],
   "source": [
    "path = \"/Users/samo/Documents/School/Bioinf/CVAT_polygon_interpolator/data/task_sonoscape_2021-09_2021-10-18_003_20211001_151030_31.avi_backup_2022_04_06_06_53_20 (1).zip\""
   ]
  },
  {
   "cell_type": "code",
   "execution_count": 3,
   "metadata": {},
   "outputs": [],
   "source": [
    "# comment out unwanted\n",
    "shapes_lst = [\n",
    "    \"lungslidingpresent\",\n",
    "    \"lungslidingabsent\",\n",
    "    # \"aline\",\n",
    "    \"bline\"\n",
    "]"
   ]
  },
  {
   "cell_type": "code",
   "execution_count": 4,
   "metadata": {},
   "outputs": [],
   "source": [
    "with ZipFile(path) as myzip:\n",
    "    with myzip.open(\"annotations.json\") as json_file:\n",
    "        annots = json.load(json_file)\n"
   ]
  },
  {
   "cell_type": "code",
   "execution_count": 5,
   "metadata": {},
   "outputs": [],
   "source": [
    "shapes = copy.deepcopy(annots[0][\"shapes\"])\n",
    "filtered_shapes = [\n",
    "    shape\n",
    "    for shape in shapes\n",
    "    if shape[\"type\"] == \"polygon\"\n",
    "    and shape[\"label\"] in shapes_lst\n",
    "]\n",
    "indicies = get_indicies(shapes)"
   ]
  },
  {
   "cell_type": "code",
   "execution_count": 6,
   "metadata": {},
   "outputs": [
    {
     "ename": "TypeError",
     "evalue": "unhashable type: 'slice'",
     "output_type": "error",
     "traceback": [
      "\u001b[0;31m---------------------------------------------------------------------------\u001b[0m",
      "\u001b[0;31mTypeError\u001b[0m                                 Traceback (most recent call last)",
      "Cell \u001b[0;32mIn [6], line 5\u001b[0m\n\u001b[1;32m      3\u001b[0m assign_id(shapes_by_frame)\n\u001b[1;32m      4\u001b[0m align_points(shapes_by_frame, annots[\u001b[39m0\u001b[39m][\u001b[39m'\u001b[39m\u001b[39mshapes\u001b[39m\u001b[39m'\u001b[39m])\n\u001b[0;32m----> 5\u001b[0m interpolator(shapes_by_frame, indicies, annots)\n",
      "File \u001b[0;32m~/Documents/School/Bioinf/CVAT_polygon_interpolator/modules/utils.py:238\u001b[0m, in \u001b[0;36minterpolator\u001b[0;34m(frames, indicies, annots)\u001b[0m\n\u001b[1;32m    234\u001b[0m \u001b[39mif\u001b[39;00m \u001b[39mlen\u001b[39m(shape[\u001b[39m\"\u001b[39m\u001b[39mpoints\u001b[39m\u001b[39m\"\u001b[39m]) \u001b[39m!=\u001b[39m \u001b[39mlen\u001b[39m(next_shape[\u001b[39m\"\u001b[39m\u001b[39mpoints\u001b[39m\u001b[39m\"\u001b[39m]):\n\u001b[1;32m    235\u001b[0m     shape[\u001b[39m\"\u001b[39m\u001b[39mpoints\u001b[39m\u001b[39m\"\u001b[39m] \u001b[39m=\u001b[39m add_remove_point(\n\u001b[1;32m    236\u001b[0m         [shape[\u001b[39m\"\u001b[39m\u001b[39mpoints\u001b[39m\u001b[39m\"\u001b[39m], next_shape[\u001b[39m\"\u001b[39m\u001b[39mpoints\u001b[39m\u001b[39m\"\u001b[39m]]\n\u001b[1;32m    237\u001b[0m     )\n\u001b[0;32m--> 238\u001b[0m shape[\u001b[39m'\u001b[39m\u001b[39mpoints\u001b[39m\u001b[39m'\u001b[39m] \u001b[39m=\u001b[39m align_points(shape, next_shape)\n\u001b[1;32m    239\u001b[0m \u001b[39m# get the difference between the points of the same shape in the next group\u001b[39;00m\n\u001b[1;32m    240\u001b[0m difference \u001b[39m=\u001b[39m np\u001b[39m.\u001b[39msubtract(next_shape[\u001b[39m\"\u001b[39m\u001b[39mpoints\u001b[39m\u001b[39m\"\u001b[39m], shape[\u001b[39m\"\u001b[39m\u001b[39mpoints\u001b[39m\u001b[39m\"\u001b[39m])\n",
      "File \u001b[0;32m~/Documents/School/Bioinf/CVAT_polygon_interpolator/modules/utils.py:106\u001b[0m, in \u001b[0;36malign_points\u001b[0;34m(shapes_by_frame, annots)\u001b[0m\n\u001b[1;32m    102\u001b[0m \u001b[39mdef\u001b[39;00m \u001b[39malign_points\u001b[39m(shapes_by_frame: \u001b[39mlist\u001b[39m[\u001b[39mlist\u001b[39m], annots: \u001b[39mlist\u001b[39m[\u001b[39mdict\u001b[39m]):\n\u001b[1;32m    103\u001b[0m     \u001b[39m\"\"\"\u001b[39;00m\n\u001b[1;32m    104\u001b[0m \u001b[39m    Aligns points of the shapes in the list of shapes grouped by frame\u001b[39;00m\n\u001b[1;32m    105\u001b[0m \u001b[39m    \"\"\"\u001b[39;00m\n\u001b[0;32m--> 106\u001b[0m     \u001b[39mfor\u001b[39;00m i, frame \u001b[39min\u001b[39;00m \u001b[39menumerate\u001b[39m(shapes_by_frame[:\u001b[39m-\u001b[39;49m\u001b[39m1\u001b[39;49m]):\n\u001b[1;32m    107\u001b[0m         \u001b[39mfor\u001b[39;00m shape \u001b[39min\u001b[39;00m frame:\n\u001b[1;32m    108\u001b[0m             \u001b[39m# check if the shape with the same id is present in the next frame\u001b[39;00m\n\u001b[1;32m    109\u001b[0m             \u001b[39mfor\u001b[39;00m next_shape \u001b[39min\u001b[39;00m shapes_by_frame[i \u001b[39m+\u001b[39m \u001b[39m1\u001b[39m]:\n",
      "\u001b[0;31mTypeError\u001b[0m: unhashable type: 'slice'"
     ]
    }
   ],
   "source": [
    "shapes_by_frame = group_shapes_by_frame(filtered_shapes)\n",
    "remove_duplicates(shapes_by_frame)\n",
    "assign_id(shapes_by_frame)\n",
    "align_points(shapes_by_frame, annots[0]['shapes'])\n",
    "interpolator(shapes_by_frame, indicies, annots)"
   ]
  },
  {
   "cell_type": "code",
   "execution_count": 7,
   "metadata": {},
   "outputs": [],
   "source": [
    "# create output folder if it doesn't exist\n",
    "if not os.path.exists(\"output\"):\n",
    "    os.makedirs(\"output\")\n",
    "\n",
    "# copy the original file to output folder\n",
    "shutil.copy(path, \"output/\" + path.split(\"/\")[-1])\n",
    "\n",
    "remove_from_zip(\"output/\" + path.split(\"/\")[-1], \"annotations.json\")\n",
    "with zipfile.ZipFile(\"output/\" + path.split(\"/\")[-1], 'a') as newzip:\n",
    "    newzip.writestr(\"annotations.json\", json.dumps(annots))\n"
   ]
  }
 ],
 "metadata": {
  "kernelspec": {
   "display_name": "Python 3.10.8 64-bit",
   "language": "python",
   "name": "python3"
  },
  "language_info": {
   "codemirror_mode": {
    "name": "ipython",
    "version": 3
   },
   "file_extension": ".py",
   "mimetype": "text/x-python",
   "name": "python",
   "nbconvert_exporter": "python",
   "pygments_lexer": "ipython3",
   "version": "3.10.8"
  },
  "orig_nbformat": 4,
  "vscode": {
   "interpreter": {
    "hash": "aee8b7b246df8f9039afb4144a1f6fd8d2ca17a180786b69acc140d282b71a49"
   }
  }
 },
 "nbformat": 4,
 "nbformat_minor": 2
}
